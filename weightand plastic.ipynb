{
 "cells": [
  {
   "cell_type": "code",
   "execution_count": 1,
   "id": "1f13848d-4d2c-45dd-99fd-88049fb3574a",
   "metadata": {},
   "outputs": [
    {
     "name": "stdout",
     "output_type": "stream",
     "text": [
      "Requirement already satisfied: tensorflow in /Library/Frameworks/Python.framework/Versions/3.12/lib/python3.12/site-packages (2.16.2)\n",
      "Requirement already satisfied: keras in /Library/Frameworks/Python.framework/Versions/3.12/lib/python3.12/site-packages (3.5.0)\n",
      "Requirement already satisfied: opencv-python in /Library/Frameworks/Python.framework/Versions/3.12/lib/python3.12/site-packages (4.10.0.84)\n",
      "Requirement already satisfied: numpy in /Library/Frameworks/Python.framework/Versions/3.12/lib/python3.12/site-packages (1.26.4)\n",
      "Requirement already satisfied: scikit-learn in /Library/Frameworks/Python.framework/Versions/3.12/lib/python3.12/site-packages (1.6.1)\n",
      "Requirement already satisfied: pillow in /Library/Frameworks/Python.framework/Versions/3.12/lib/python3.12/site-packages (10.4.0)\n",
      "Requirement already satisfied: rembg in /Library/Frameworks/Python.framework/Versions/3.12/lib/python3.12/site-packages (2.0.65)\n",
      "Requirement already satisfied: django in /Library/Frameworks/Python.framework/Versions/3.12/lib/python3.12/site-packages (5.0.6)\n",
      "Requirement already satisfied: djangorestframework in /Library/Frameworks/Python.framework/Versions/3.12/lib/python3.12/site-packages (3.15.2)\n",
      "Requirement already satisfied: absl-py>=1.0.0 in /Library/Frameworks/Python.framework/Versions/3.12/lib/python3.12/site-packages (from tensorflow) (2.1.0)\n",
      "Requirement already satisfied: astunparse>=1.6.0 in /Library/Frameworks/Python.framework/Versions/3.12/lib/python3.12/site-packages (from tensorflow) (1.6.3)\n",
      "Requirement already satisfied: flatbuffers>=23.5.26 in /Library/Frameworks/Python.framework/Versions/3.12/lib/python3.12/site-packages (from tensorflow) (24.3.25)\n",
      "Requirement already satisfied: gast!=0.5.0,!=0.5.1,!=0.5.2,>=0.2.1 in /Library/Frameworks/Python.framework/Versions/3.12/lib/python3.12/site-packages (from tensorflow) (0.6.0)\n",
      "Requirement already satisfied: google-pasta>=0.1.1 in /Library/Frameworks/Python.framework/Versions/3.12/lib/python3.12/site-packages (from tensorflow) (0.2.0)\n",
      "Requirement already satisfied: h5py>=3.10.0 in /Library/Frameworks/Python.framework/Versions/3.12/lib/python3.12/site-packages (from tensorflow) (3.11.0)\n",
      "Requirement already satisfied: libclang>=13.0.0 in /Library/Frameworks/Python.framework/Versions/3.12/lib/python3.12/site-packages (from tensorflow) (18.1.1)\n",
      "Requirement already satisfied: ml-dtypes~=0.3.1 in /Library/Frameworks/Python.framework/Versions/3.12/lib/python3.12/site-packages (from tensorflow) (0.3.2)\n",
      "Requirement already satisfied: opt-einsum>=2.3.2 in /Library/Frameworks/Python.framework/Versions/3.12/lib/python3.12/site-packages (from tensorflow) (3.3.0)\n",
      "Requirement already satisfied: packaging in /Library/Frameworks/Python.framework/Versions/3.12/lib/python3.12/site-packages (from tensorflow) (24.1)\n",
      "Requirement already satisfied: protobuf!=4.21.0,!=4.21.1,!=4.21.2,!=4.21.3,!=4.21.4,!=4.21.5,<5.0.0dev,>=3.20.3 in /Library/Frameworks/Python.framework/Versions/3.12/lib/python3.12/site-packages (from tensorflow) (4.25.4)\n",
      "Requirement already satisfied: requests<3,>=2.21.0 in /Library/Frameworks/Python.framework/Versions/3.12/lib/python3.12/site-packages (from tensorflow) (2.32.3)\n",
      "Requirement already satisfied: setuptools in /Library/Frameworks/Python.framework/Versions/3.12/lib/python3.12/site-packages (from tensorflow) (73.0.1)\n",
      "Requirement already satisfied: six>=1.12.0 in /Library/Frameworks/Python.framework/Versions/3.12/lib/python3.12/site-packages (from tensorflow) (1.16.0)\n",
      "Requirement already satisfied: termcolor>=1.1.0 in /Library/Frameworks/Python.framework/Versions/3.12/lib/python3.12/site-packages (from tensorflow) (2.4.0)\n",
      "Requirement already satisfied: typing-extensions>=3.6.6 in /Library/Frameworks/Python.framework/Versions/3.12/lib/python3.12/site-packages (from tensorflow) (4.12.2)\n",
      "Requirement already satisfied: wrapt>=1.11.0 in /Library/Frameworks/Python.framework/Versions/3.12/lib/python3.12/site-packages (from tensorflow) (1.16.0)\n",
      "Requirement already satisfied: grpcio<2.0,>=1.24.3 in /Library/Frameworks/Python.framework/Versions/3.12/lib/python3.12/site-packages (from tensorflow) (1.66.1)\n",
      "Requirement already satisfied: tensorboard<2.17,>=2.16 in /Library/Frameworks/Python.framework/Versions/3.12/lib/python3.12/site-packages (from tensorflow) (2.16.2)\n",
      "Requirement already satisfied: rich in /Library/Frameworks/Python.framework/Versions/3.12/lib/python3.12/site-packages (from keras) (13.8.1)\n",
      "Requirement already satisfied: namex in /Library/Frameworks/Python.framework/Versions/3.12/lib/python3.12/site-packages (from keras) (0.0.8)\n",
      "Requirement already satisfied: optree in /Library/Frameworks/Python.framework/Versions/3.12/lib/python3.12/site-packages (from keras) (0.12.1)\n",
      "Requirement already satisfied: scipy>=1.6.0 in /Library/Frameworks/Python.framework/Versions/3.12/lib/python3.12/site-packages (from scikit-learn) (1.15.2)\n",
      "Requirement already satisfied: joblib>=1.2.0 in /Library/Frameworks/Python.framework/Versions/3.12/lib/python3.12/site-packages (from scikit-learn) (1.4.2)\n",
      "Requirement already satisfied: threadpoolctl>=3.1.0 in /Library/Frameworks/Python.framework/Versions/3.12/lib/python3.12/site-packages (from scikit-learn) (3.6.0)\n",
      "Requirement already satisfied: jsonschema in /Library/Frameworks/Python.framework/Versions/3.12/lib/python3.12/site-packages (from rembg) (4.23.0)\n",
      "Requirement already satisfied: opencv-python-headless in /Library/Frameworks/Python.framework/Versions/3.12/lib/python3.12/site-packages (from rembg) (4.11.0.86)\n",
      "Requirement already satisfied: pooch in /Library/Frameworks/Python.framework/Versions/3.12/lib/python3.12/site-packages (from rembg) (1.8.2)\n",
      "Requirement already satisfied: pymatting in /Library/Frameworks/Python.framework/Versions/3.12/lib/python3.12/site-packages (from rembg) (1.1.13)\n",
      "Requirement already satisfied: scikit-image in /Library/Frameworks/Python.framework/Versions/3.12/lib/python3.12/site-packages (from rembg) (0.25.2)\n",
      "Requirement already satisfied: tqdm in /Library/Frameworks/Python.framework/Versions/3.12/lib/python3.12/site-packages (from rembg) (4.67.1)\n",
      "Requirement already satisfied: asgiref<4,>=3.7.0 in /Library/Frameworks/Python.framework/Versions/3.12/lib/python3.12/site-packages (from django) (3.8.1)\n",
      "Requirement already satisfied: sqlparse>=0.3.1 in /Library/Frameworks/Python.framework/Versions/3.12/lib/python3.12/site-packages (from django) (0.5.0)\n",
      "Requirement already satisfied: wheel<1.0,>=0.23.0 in /Library/Frameworks/Python.framework/Versions/3.12/lib/python3.12/site-packages (from astunparse>=1.6.0->tensorflow) (0.44.0)\n",
      "Requirement already satisfied: charset-normalizer<4,>=2 in /Library/Frameworks/Python.framework/Versions/3.12/lib/python3.12/site-packages (from requests<3,>=2.21.0->tensorflow) (3.3.2)\n",
      "Requirement already satisfied: idna<4,>=2.5 in /Library/Frameworks/Python.framework/Versions/3.12/lib/python3.12/site-packages (from requests<3,>=2.21.0->tensorflow) (3.7)\n",
      "Requirement already satisfied: urllib3<3,>=1.21.1 in /Library/Frameworks/Python.framework/Versions/3.12/lib/python3.12/site-packages (from requests<3,>=2.21.0->tensorflow) (2.2.2)\n",
      "Requirement already satisfied: certifi>=2017.4.17 in /Library/Frameworks/Python.framework/Versions/3.12/lib/python3.12/site-packages (from requests<3,>=2.21.0->tensorflow) (2025.1.31)\n",
      "Requirement already satisfied: markdown>=2.6.8 in /Library/Frameworks/Python.framework/Versions/3.12/lib/python3.12/site-packages (from tensorboard<2.17,>=2.16->tensorflow) (3.7)\n",
      "Requirement already satisfied: tensorboard-data-server<0.8.0,>=0.7.0 in /Library/Frameworks/Python.framework/Versions/3.12/lib/python3.12/site-packages (from tensorboard<2.17,>=2.16->tensorflow) (0.7.2)\n",
      "Requirement already satisfied: werkzeug>=1.0.1 in /Library/Frameworks/Python.framework/Versions/3.12/lib/python3.12/site-packages (from tensorboard<2.17,>=2.16->tensorflow) (3.0.4)\n",
      "Requirement already satisfied: attrs>=22.2.0 in /Library/Frameworks/Python.framework/Versions/3.12/lib/python3.12/site-packages (from jsonschema->rembg) (25.3.0)\n",
      "Requirement already satisfied: jsonschema-specifications>=2023.03.6 in /Library/Frameworks/Python.framework/Versions/3.12/lib/python3.12/site-packages (from jsonschema->rembg) (2024.10.1)\n",
      "Requirement already satisfied: referencing>=0.28.4 in /Library/Frameworks/Python.framework/Versions/3.12/lib/python3.12/site-packages (from jsonschema->rembg) (0.36.2)\n",
      "Requirement already satisfied: rpds-py>=0.7.1 in /Library/Frameworks/Python.framework/Versions/3.12/lib/python3.12/site-packages (from jsonschema->rembg) (0.23.1)\n",
      "Requirement already satisfied: platformdirs>=2.5.0 in /Library/Frameworks/Python.framework/Versions/3.12/lib/python3.12/site-packages (from pooch->rembg) (4.2.2)\n",
      "Requirement already satisfied: numba!=0.49.0 in /Library/Frameworks/Python.framework/Versions/3.12/lib/python3.12/site-packages (from pymatting->rembg) (0.61.0)\n",
      "Requirement already satisfied: markdown-it-py>=2.2.0 in /Library/Frameworks/Python.framework/Versions/3.12/lib/python3.12/site-packages (from rich->keras) (3.0.0)\n",
      "Requirement already satisfied: pygments<3.0.0,>=2.13.0 in /Library/Frameworks/Python.framework/Versions/3.12/lib/python3.12/site-packages (from rich->keras) (2.18.0)\n",
      "Requirement already satisfied: networkx>=3.0 in /Library/Frameworks/Python.framework/Versions/3.12/lib/python3.12/site-packages (from scikit-image->rembg) (3.4.2)\n",
      "Requirement already satisfied: imageio!=2.35.0,>=2.33 in /Library/Frameworks/Python.framework/Versions/3.12/lib/python3.12/site-packages (from scikit-image->rembg) (2.37.0)\n",
      "Requirement already satisfied: tifffile>=2022.8.12 in /Library/Frameworks/Python.framework/Versions/3.12/lib/python3.12/site-packages (from scikit-image->rembg) (2025.3.13)\n",
      "Requirement already satisfied: lazy-loader>=0.4 in /Library/Frameworks/Python.framework/Versions/3.12/lib/python3.12/site-packages (from scikit-image->rembg) (0.4)\n",
      "Requirement already satisfied: mdurl~=0.1 in /Library/Frameworks/Python.framework/Versions/3.12/lib/python3.12/site-packages (from markdown-it-py>=2.2.0->rich->keras) (0.1.2)\n",
      "Requirement already satisfied: llvmlite<0.45,>=0.44.0dev0 in /Library/Frameworks/Python.framework/Versions/3.12/lib/python3.12/site-packages (from numba!=0.49.0->pymatting->rembg) (0.44.0)\n",
      "Requirement already satisfied: MarkupSafe>=2.1.1 in /Library/Frameworks/Python.framework/Versions/3.12/lib/python3.12/site-packages (from werkzeug>=1.0.1->tensorboard<2.17,>=2.16->tensorflow) (2.1.5)\n"
     ]
    }
   ],
   "source": [
    "!pip install tensorflow keras opencv-python numpy scikit-learn pillow rembg django djangorestframework\n"
   ]
  },
  {
   "cell_type": "code",
   "execution_count": 5,
   "id": "e0e300f1-5398-45c7-8388-adf4bfb01ad8",
   "metadata": {},
   "outputs": [
    {
     "name": "stdout",
     "output_type": "stream",
     "text": [
      "Found existing installation: tensorflow 2.16.2\n",
      "Uninstalling tensorflow-2.16.2:\n",
      "  Successfully uninstalled tensorflow-2.16.2\n"
     ]
    }
   ],
   "source": [
    "!pip uninstall tensorflow -y\n"
   ]
  },
  {
   "cell_type": "code",
   "execution_count": 6,
   "id": "f3efd26d-09ab-406b-aeea-72b894bb8a53",
   "metadata": {},
   "outputs": [
    {
     "name": "stdout",
     "output_type": "stream",
     "text": [
      "Collecting tensorflow-cpu\n",
      "  Using cached tensorflow_cpu-2.16.2-cp312-cp312-macosx_10_15_x86_64.whl.metadata (4.1 kB)\n",
      "Requirement already satisfied: absl-py>=1.0.0 in /Library/Frameworks/Python.framework/Versions/3.12/lib/python3.12/site-packages (from tensorflow-cpu) (2.1.0)\n",
      "Requirement already satisfied: astunparse>=1.6.0 in /Library/Frameworks/Python.framework/Versions/3.12/lib/python3.12/site-packages (from tensorflow-cpu) (1.6.3)\n",
      "Requirement already satisfied: flatbuffers>=23.5.26 in /Library/Frameworks/Python.framework/Versions/3.12/lib/python3.12/site-packages (from tensorflow-cpu) (24.3.25)\n",
      "Requirement already satisfied: gast!=0.5.0,!=0.5.1,!=0.5.2,>=0.2.1 in /Library/Frameworks/Python.framework/Versions/3.12/lib/python3.12/site-packages (from tensorflow-cpu) (0.6.0)\n",
      "Requirement already satisfied: google-pasta>=0.1.1 in /Library/Frameworks/Python.framework/Versions/3.12/lib/python3.12/site-packages (from tensorflow-cpu) (0.2.0)\n",
      "Requirement already satisfied: h5py>=3.10.0 in /Library/Frameworks/Python.framework/Versions/3.12/lib/python3.12/site-packages (from tensorflow-cpu) (3.11.0)\n",
      "Requirement already satisfied: libclang>=13.0.0 in /Library/Frameworks/Python.framework/Versions/3.12/lib/python3.12/site-packages (from tensorflow-cpu) (18.1.1)\n",
      "Requirement already satisfied: ml-dtypes~=0.3.1 in /Library/Frameworks/Python.framework/Versions/3.12/lib/python3.12/site-packages (from tensorflow-cpu) (0.3.2)\n",
      "Requirement already satisfied: opt-einsum>=2.3.2 in /Library/Frameworks/Python.framework/Versions/3.12/lib/python3.12/site-packages (from tensorflow-cpu) (3.3.0)\n",
      "Requirement already satisfied: packaging in /Library/Frameworks/Python.framework/Versions/3.12/lib/python3.12/site-packages (from tensorflow-cpu) (24.1)\n",
      "Requirement already satisfied: protobuf!=4.21.0,!=4.21.1,!=4.21.2,!=4.21.3,!=4.21.4,!=4.21.5,<5.0.0dev,>=3.20.3 in /Library/Frameworks/Python.framework/Versions/3.12/lib/python3.12/site-packages (from tensorflow-cpu) (4.25.4)\n",
      "Requirement already satisfied: requests<3,>=2.21.0 in /Library/Frameworks/Python.framework/Versions/3.12/lib/python3.12/site-packages (from tensorflow-cpu) (2.32.3)\n",
      "Requirement already satisfied: setuptools in /Library/Frameworks/Python.framework/Versions/3.12/lib/python3.12/site-packages (from tensorflow-cpu) (73.0.1)\n",
      "Requirement already satisfied: six>=1.12.0 in /Library/Frameworks/Python.framework/Versions/3.12/lib/python3.12/site-packages (from tensorflow-cpu) (1.16.0)\n",
      "Requirement already satisfied: termcolor>=1.1.0 in /Library/Frameworks/Python.framework/Versions/3.12/lib/python3.12/site-packages (from tensorflow-cpu) (2.4.0)\n",
      "Requirement already satisfied: typing-extensions>=3.6.6 in /Library/Frameworks/Python.framework/Versions/3.12/lib/python3.12/site-packages (from tensorflow-cpu) (4.12.2)\n",
      "Requirement already satisfied: wrapt>=1.11.0 in /Library/Frameworks/Python.framework/Versions/3.12/lib/python3.12/site-packages (from tensorflow-cpu) (1.16.0)\n",
      "Requirement already satisfied: grpcio<2.0,>=1.24.3 in /Library/Frameworks/Python.framework/Versions/3.12/lib/python3.12/site-packages (from tensorflow-cpu) (1.66.1)\n",
      "Requirement already satisfied: tensorboard<2.17,>=2.16 in /Library/Frameworks/Python.framework/Versions/3.12/lib/python3.12/site-packages (from tensorflow-cpu) (2.16.2)\n",
      "Requirement already satisfied: keras>=3.0.0 in /Library/Frameworks/Python.framework/Versions/3.12/lib/python3.12/site-packages (from tensorflow-cpu) (3.5.0)\n",
      "Requirement already satisfied: numpy<2.0.0,>=1.26.0 in /Library/Frameworks/Python.framework/Versions/3.12/lib/python3.12/site-packages (from tensorflow-cpu) (1.26.4)\n",
      "Requirement already satisfied: wheel<1.0,>=0.23.0 in /Library/Frameworks/Python.framework/Versions/3.12/lib/python3.12/site-packages (from astunparse>=1.6.0->tensorflow-cpu) (0.44.0)\n",
      "Requirement already satisfied: rich in /Library/Frameworks/Python.framework/Versions/3.12/lib/python3.12/site-packages (from keras>=3.0.0->tensorflow-cpu) (13.8.1)\n",
      "Requirement already satisfied: namex in /Library/Frameworks/Python.framework/Versions/3.12/lib/python3.12/site-packages (from keras>=3.0.0->tensorflow-cpu) (0.0.8)\n",
      "Requirement already satisfied: optree in /Library/Frameworks/Python.framework/Versions/3.12/lib/python3.12/site-packages (from keras>=3.0.0->tensorflow-cpu) (0.12.1)\n",
      "Requirement already satisfied: charset-normalizer<4,>=2 in /Library/Frameworks/Python.framework/Versions/3.12/lib/python3.12/site-packages (from requests<3,>=2.21.0->tensorflow-cpu) (3.3.2)\n",
      "Requirement already satisfied: idna<4,>=2.5 in /Library/Frameworks/Python.framework/Versions/3.12/lib/python3.12/site-packages (from requests<3,>=2.21.0->tensorflow-cpu) (3.7)\n",
      "Requirement already satisfied: urllib3<3,>=1.21.1 in /Library/Frameworks/Python.framework/Versions/3.12/lib/python3.12/site-packages (from requests<3,>=2.21.0->tensorflow-cpu) (2.2.2)\n",
      "Requirement already satisfied: certifi>=2017.4.17 in /Library/Frameworks/Python.framework/Versions/3.12/lib/python3.12/site-packages (from requests<3,>=2.21.0->tensorflow-cpu) (2025.1.31)\n",
      "Requirement already satisfied: markdown>=2.6.8 in /Library/Frameworks/Python.framework/Versions/3.12/lib/python3.12/site-packages (from tensorboard<2.17,>=2.16->tensorflow-cpu) (3.7)\n",
      "Requirement already satisfied: tensorboard-data-server<0.8.0,>=0.7.0 in /Library/Frameworks/Python.framework/Versions/3.12/lib/python3.12/site-packages (from tensorboard<2.17,>=2.16->tensorflow-cpu) (0.7.2)\n",
      "Requirement already satisfied: werkzeug>=1.0.1 in /Library/Frameworks/Python.framework/Versions/3.12/lib/python3.12/site-packages (from tensorboard<2.17,>=2.16->tensorflow-cpu) (3.0.4)\n",
      "Requirement already satisfied: MarkupSafe>=2.1.1 in /Library/Frameworks/Python.framework/Versions/3.12/lib/python3.12/site-packages (from werkzeug>=1.0.1->tensorboard<2.17,>=2.16->tensorflow-cpu) (2.1.5)\n",
      "Requirement already satisfied: markdown-it-py>=2.2.0 in /Library/Frameworks/Python.framework/Versions/3.12/lib/python3.12/site-packages (from rich->keras>=3.0.0->tensorflow-cpu) (3.0.0)\n",
      "Requirement already satisfied: pygments<3.0.0,>=2.13.0 in /Library/Frameworks/Python.framework/Versions/3.12/lib/python3.12/site-packages (from rich->keras>=3.0.0->tensorflow-cpu) (2.18.0)\n",
      "Requirement already satisfied: mdurl~=0.1 in /Library/Frameworks/Python.framework/Versions/3.12/lib/python3.12/site-packages (from markdown-it-py>=2.2.0->rich->keras>=3.0.0->tensorflow-cpu) (0.1.2)\n",
      "Downloading tensorflow_cpu-2.16.2-cp312-cp312-macosx_10_15_x86_64.whl (259.7 MB)\n",
      "\u001b[2K   \u001b[90m━━━━━━━━━━━━━━━━━━━━━━━━━━━━━━━━━━━━━━━\u001b[0m \u001b[32m259.7/259.7 MB\u001b[0m \u001b[31m944.8 kB/s\u001b[0m eta \u001b[36m0:00:00\u001b[0m00:01\u001b[0m0:07\u001b[0mm\n",
      "\u001b[?25hInstalling collected packages: tensorflow-cpu\n",
      "Successfully installed tensorflow-cpu-2.16.2\n"
     ]
    }
   ],
   "source": [
    "!pip install tensorflow-cpu  # Optimized for CPU\n"
   ]
  },
  {
   "cell_type": "code",
   "execution_count": 8,
   "id": "b7b39684-acfb-4977-b250-a3d64ebdaff5",
   "metadata": {},
   "outputs": [],
   "source": [
    "import os\n",
    "import cv2\n",
    "import numpy as np\n",
    "import tensorflow as tf\n",
    "from tensorflow import keras\n",
    "from tensorflow.keras.preprocessing.image import ImageDataGenerator\n",
    "from sklearn.model_selection import train_test_split\n",
    "from rembg import remove\n",
    "from PIL import Image\n",
    "import matplotlib.pyplot as plt"
   ]
  },
  {
   "cell_type": "code",
   "execution_count": 11,
   "id": "22e821c3-6fd1-46a0-907a-593b49e2bbcf",
   "metadata": {},
   "outputs": [
    {
     "name": "stdout",
     "output_type": "stream",
     "text": [
      "Training samples: 176, Test samples: 44\n"
     ]
    }
   ],
   "source": [
    "import os\n",
    "import numpy as np\n",
    "from PIL import Image\n",
    "from rembg import remove\n",
    "from sklearn.model_selection import train_test_split\n",
    "\n",
    "# Define data directory and image size\n",
    "data_dir = '/users/gorantlasaitejaswini/Desktop/mlplastic'\n",
    "img_size = (224, 224)\n",
    "\n",
    "# Get list of class names, ignoring non-directory files\n",
    "classes = [d for d in os.listdir(data_dir) if os.path.isdir(os.path.join(data_dir, d))]\n",
    "\n",
    "X, y, weights = [], [], []\n",
    "\n",
    "for class_idx, class_name in enumerate(classes):\n",
    "    class_path = os.path.join(data_dir, class_name)\n",
    "    \n",
    "    # Ensure it's a directory before proceeding\n",
    "    if not os.path.isdir(class_path):\n",
    "        continue\n",
    "    \n",
    "    for img_name in os.listdir(class_path):\n",
    "        img_path = os.path.join(class_path, img_name)\n",
    "        \n",
    "        # Skip hidden/system files like .DS_Store\n",
    "        if img_name.startswith('.'):\n",
    "            continue\n",
    "        \n",
    "        try:\n",
    "            # Load image\n",
    "            img = Image.open(img_path).convert('RGBA')\n",
    "            img_no_bg = remove(img)  # Remove background\n",
    "            img_no_bg = img_no_bg.convert('RGB')\n",
    "            img_no_bg = img_no_bg.resize(img_size)\n",
    "            img_array = np.array(img_no_bg) / 255.0  # Normalize\n",
    "            \n",
    "            # Extract weight from filename (assuming weight is in filename like 'plastic_100g.jpg')\n",
    "            weight = int(''.join(filter(str.isdigit, img_name)))\n",
    "            \n",
    "            X.append(img_array)\n",
    "            y.append(class_idx)\n",
    "            weights.append(weight)\n",
    "        \n",
    "        except Exception as e:\n",
    "            print(f\"Skipping {img_name}: {e}\")  # Print error but continue processing\n",
    "\n",
    "# Convert lists to NumPy arrays\n",
    "X = np.array(X)\n",
    "y = np.array(y)\n",
    "weights = np.array(weights)\n",
    "\n",
    "# Train-Test Split\n",
    "X_train, X_test, y_train, y_test, weights_train, weights_test = train_test_split(\n",
    "    X, y, weights, test_size=0.2, random_state=42\n",
    ")\n",
    "\n",
    "print(f\"Training samples: {len(X_train)}, Test samples: {len(X_test)}\")\n"
   ]
  },
  {
   "cell_type": "code",
   "execution_count": 21,
   "id": "1d8c3cd6-76b5-472a-8b30-1a443e5415e6",
   "metadata": {},
   "outputs": [],
   "source": [
    "inputs = keras.Input(shape=(224, 224, 3))\n",
    "x = keras.layers.Conv2D(32, (3,3), activation='relu')(inputs)\n",
    "x = keras.layers.MaxPooling2D((2,2))(x)\n",
    "x = keras.layers.Conv2D(64, (3,3), activation='relu')(x)\n",
    "x = keras.layers.MaxPooling2D((2,2))(x)\n",
    "x = keras.layers.Flatten()(x)\n",
    "x = keras.layers.Dense(128, activation='relu')(x)\n",
    "\n",
    "# Output layers\n",
    "classification_output = keras.layers.Dense(len(classes), activation='softmax', name='class_output')(x)\n",
    "weight_output = keras.layers.Dense(1, activation='linear', name='weight_output')(x)\n",
    "\n",
    "# Final Model\n",
    "model = keras.Model(inputs=inputs, outputs=[classification_output, weight_output])\n",
    "model.compile(optimizer='adam',\n",
    "              loss=['sparse_categorical_crossentropy', 'mse'],  # Loss for each output\n",
    "              metrics=[['accuracy'], ['mae']])  # Metric for each output\n"
   ]
  },
  {
   "cell_type": "code",
   "execution_count": 22,
   "id": "7eeebebb-6018-4e12-87c4-11ed2f900e91",
   "metadata": {},
   "outputs": [
    {
     "name": "stdout",
     "output_type": "stream",
     "text": [
      "Epoch 1/10\n",
      "\u001b[1m6/6\u001b[0m \u001b[32m━━━━━━━━━━━━━━━━━━━━\u001b[0m\u001b[37m\u001b[0m \u001b[1m7s\u001b[0m 801ms/step - class_output_accuracy: 0.1823 - class_output_loss: 3.1563 - loss: 635.7602 - weight_output_loss: 629.6469 - weight_output_mae: 20.5220 - val_class_output_accuracy: 0.1364 - val_class_output_loss: 2.1240 - val_loss: 404.2490 - val_weight_output_loss: 494.6513 - val_weight_output_mae: 16.3031\n",
      "Epoch 2/10\n",
      "\u001b[1m6/6\u001b[0m \u001b[32m━━━━━━━━━━━━━━━━━━━━\u001b[0m\u001b[37m\u001b[0m \u001b[1m4s\u001b[0m 720ms/step - class_output_accuracy: 0.1692 - class_output_loss: 2.6537 - loss: 356.7786 - weight_output_loss: 352.5097 - weight_output_mae: 15.2688 - val_class_output_accuracy: 0.1364 - val_class_output_loss: 4.6588 - val_loss: 230.6792 - val_weight_output_loss: 276.4490 - val_weight_output_mae: 12.2664\n",
      "Epoch 3/10\n",
      "\u001b[1m6/6\u001b[0m \u001b[32m━━━━━━━━━━━━━━━━━━━━\u001b[0m\u001b[37m\u001b[0m \u001b[1m4s\u001b[0m 716ms/step - class_output_accuracy: 0.1409 - class_output_loss: 5.4522 - loss: 180.9998 - weight_output_loss: 175.8491 - weight_output_mae: 10.4455 - val_class_output_accuracy: 0.1591 - val_class_output_loss: 7.4397 - val_loss: 218.5619 - val_weight_output_loss: 205.3380 - val_weight_output_mae: 11.3391\n",
      "Epoch 4/10\n",
      "\u001b[1m6/6\u001b[0m \u001b[32m━━━━━━━━━━━━━━━━━━━━\u001b[0m\u001b[37m\u001b[0m \u001b[1m5s\u001b[0m 755ms/step - class_output_accuracy: 0.1310 - class_output_loss: 6.3851 - loss: 189.2948 - weight_output_loss: 180.4930 - weight_output_mae: 11.1259 - val_class_output_accuracy: 0.1591 - val_class_output_loss: 4.6009 - val_loss: 172.4515 - val_weight_output_loss: 188.1595 - val_weight_output_mae: 10.1663\n",
      "Epoch 5/10\n",
      "\u001b[1m6/6\u001b[0m \u001b[32m━━━━━━━━━━━━━━━━━━━━\u001b[0m\u001b[37m\u001b[0m \u001b[1m4s\u001b[0m 735ms/step - class_output_accuracy: 0.1671 - class_output_loss: 4.1410 - loss: 140.8757 - weight_output_loss: 137.6479 - weight_output_mae: 9.3151 - val_class_output_accuracy: 0.1136 - val_class_output_loss: 3.1560 - val_loss: 156.6963 - val_weight_output_loss: 186.5286 - val_weight_output_mae: 10.3824\n",
      "Epoch 6/10\n",
      "\u001b[1m6/6\u001b[0m \u001b[32m━━━━━━━━━━━━━━━━━━━━\u001b[0m\u001b[37m\u001b[0m \u001b[1m4s\u001b[0m 740ms/step - class_output_accuracy: 0.2087 - class_output_loss: 2.8362 - loss: 125.8153 - weight_output_loss: 122.9828 - weight_output_mae: 9.4022 - val_class_output_accuracy: 0.2500 - val_class_output_loss: 2.3095 - val_loss: 152.4344 - val_weight_output_loss: 185.3042 - val_weight_output_mae: 9.9823\n",
      "Epoch 7/10\n",
      "\u001b[1m6/6\u001b[0m \u001b[32m━━━━━━━━━━━━━━━━━━━━\u001b[0m\u001b[37m\u001b[0m \u001b[1m4s\u001b[0m 724ms/step - class_output_accuracy: 0.1651 - class_output_loss: 2.3992 - loss: 140.8296 - weight_output_loss: 139.0243 - weight_output_mae: 9.5555 - val_class_output_accuracy: 0.2273 - val_class_output_loss: 2.2814 - val_loss: 164.6498 - val_weight_output_loss: 202.1840 - val_weight_output_mae: 10.2760\n",
      "Epoch 8/10\n",
      "\u001b[1m6/6\u001b[0m \u001b[32m━━━━━━━━━━━━━━━━━━━━\u001b[0m\u001b[37m\u001b[0m \u001b[1m4s\u001b[0m 722ms/step - class_output_accuracy: 0.1792 - class_output_loss: 2.3296 - loss: 131.5118 - weight_output_loss: 127.7395 - weight_output_mae: 9.2243 - val_class_output_accuracy: 0.1818 - val_class_output_loss: 2.4657 - val_loss: 161.3370 - val_weight_output_loss: 172.1349 - val_weight_output_mae: 11.0122\n",
      "Epoch 9/10\n",
      "\u001b[1m6/6\u001b[0m \u001b[32m━━━━━━━━━━━━━━━━━━━━\u001b[0m\u001b[37m\u001b[0m \u001b[1m4s\u001b[0m 743ms/step - class_output_accuracy: 0.2055 - class_output_loss: 2.2342 - loss: 103.7440 - weight_output_loss: 101.9970 - weight_output_mae: 8.3396 - val_class_output_accuracy: 0.2045 - val_class_output_loss: 2.1248 - val_loss: 147.0220 - val_weight_output_loss: 173.0299 - val_weight_output_mae: 9.7046\n",
      "Epoch 10/10\n",
      "\u001b[1m6/6\u001b[0m \u001b[32m━━━━━━━━━━━━━━━━━━━━\u001b[0m\u001b[37m\u001b[0m \u001b[1m4s\u001b[0m 723ms/step - class_output_accuracy: 0.2383 - class_output_loss: 1.9308 - loss: 93.1809 - weight_output_loss: 90.6936 - weight_output_mae: 7.8217 - val_class_output_accuracy: 0.2273 - val_class_output_loss: 2.1536 - val_loss: 151.3161 - val_weight_output_loss: 182.6265 - val_weight_output_mae: 10.2679\n"
     ]
    }
   ],
   "source": [
    "history = model.fit(X_train, [y_train, weights_train], epochs=10, validation_data=(X_test, [y_test, weights_test]))\n"
   ]
  },
  {
   "cell_type": "code",
   "execution_count": 23,
   "id": "7a6b0dba-0d91-43ff-8cb0-8bdf521dcaa0",
   "metadata": {},
   "outputs": [],
   "source": [
    "model.save('plastic_model.keras') "
   ]
  },
  {
   "cell_type": "code",
   "execution_count": 7,
   "id": "35192247-c54d-453c-a4c8-b9605cd67dd0",
   "metadata": {},
   "outputs": [
    {
     "name": "stdout",
     "output_type": "stream",
     "text": [
      "Opening image...\n",
      "Removing background...\n",
      "Resizing image...\n",
      "Converting to NumPy array...\n",
      "Expanding dimensions for model input...\n",
      "Image shape after processing: (1, 224, 224, 3)\n",
      "First pixel values: [0. 0. 0.]\n",
      "Making prediction...\n",
      "\u001b[1m1/1\u001b[0m \u001b[32m━━━━━━━━━━━━━━━━━━━━\u001b[0m\u001b[37m\u001b[0m \u001b[1m1s\u001b[0m 1s/step\n",
      "Raw model output: [array([[2.4626857e-02, 1.1497013e-03, 3.5142279e-05, 6.4787902e-02,\n",
      "        1.9102610e-03, 8.9812422e-01, 9.3658781e-03]], dtype=float32), array([[2.1138558]], dtype=float32)]\n",
      "Class Probabilities: [[2.4626857e-02 1.1497013e-03 3.5142279e-05 6.4787902e-02 1.9102610e-03\n",
      "  8.9812422e-01 9.3658781e-03]]\n",
      "Predicted Class Index: 5\n",
      "Predicted Class: ps, Predicted Weight: 2.1138558387756348g\n"
     ]
    }
   ],
   "source": [
    "import numpy as np\n",
    "from PIL import Image\n",
    "from rembg import remove\n",
    "import keras\n",
    "\n",
    "# Load trained model\n",
    "model = keras.models.load_model('plastic_model.keras')\n",
    "\n",
    "# Define expected image size and class labels (Ensure order matches model training)\n",
    "img_size = (224, 224)  \n",
    "classes = ['hdpe', 'ldpe', 'others', 'pet', 'pp', 'ps', 'pvc']  \n",
    "\n",
    "def predict_plastic(img_path):\n",
    "    try:\n",
    "        print(\"Opening image...\")\n",
    "        img = Image.open(img_path).convert('RGBA')\n",
    "\n",
    "        print(\"Removing background...\")\n",
    "        img_no_bg = remove(img).convert('RGB')\n",
    "\n",
    "        print(\"Resizing image...\")\n",
    "        img_no_bg = img_no_bg.resize(img_size)  \n",
    "\n",
    "        print(\"Converting to NumPy array...\")\n",
    "        img_array = np.array(img_no_bg, dtype=np.float32) / 255.0  \n",
    "\n",
    "        print(\"Expanding dimensions for model input...\")\n",
    "        img_array = np.expand_dims(img_array, axis=0)  \n",
    "\n",
    "        print(\"Image shape after processing:\", img_array.shape)\n",
    "\n",
    "        # Debugging: Check pixel values\n",
    "        print(\"First pixel values:\", img_array[0, 0, 0, :])\n",
    "\n",
    "        print(\"Making prediction...\")\n",
    "        outputs = model.predict(img_array)\n",
    "        print(\"Raw model output:\", outputs)\n",
    "\n",
    "        if isinstance(outputs, list) and len(outputs) == 2:\n",
    "            class_pred, weight_pred = outputs\n",
    "        else:\n",
    "            print(\"Unexpected output shape from model:\", outputs)\n",
    "            return None, None\n",
    "\n",
    "        # Debugging: Check class probabilities\n",
    "        print(\"Class Probabilities:\", class_pred)\n",
    "        print(\"Predicted Class Index:\", np.argmax(class_pred))\n",
    "\n",
    "        predicted_class = classes[np.argmax(class_pred)]\n",
    "        predicted_weight = float(weight_pred[0][0])  \n",
    "\n",
    "        return predicted_class, predicted_weight\n",
    "    \n",
    "    except Exception as e:\n",
    "        print(\"Error during prediction:\", str(e))\n",
    "        return None, None\n",
    "\n",
    "# Test prediction\n",
    "img_path = '/users/gorantlasaitejaswini/Desktop/test/00000019.jpg'\n",
    "pred_class, pred_weight = predict_plastic(img_path)\n",
    "if pred_class is not None:\n",
    "    print(f\"Predicted Class: {pred_class}, Predicted Weight: {pred_weight}g\")\n"
   ]
  },
  {
   "cell_type": "code",
   "execution_count": 27,
   "id": "198fdf25-2136-4d54-9247-566fbb24595f",
   "metadata": {},
   "outputs": [
    {
     "name": "stdout",
     "output_type": "stream",
     "text": [
      "True\n"
     ]
    }
   ],
   "source": [
    "import os\n",
    "print(os.path.exists(img_path))  # Should print True if the file exists\n"
   ]
  },
  {
   "cell_type": "code",
   "execution_count": 28,
   "id": "7d6056cb-8034-4595-a62b-a718a8537680",
   "metadata": {},
   "outputs": [],
   "source": [
    "from rembg import remove\n",
    "\n",
    "img = Image.open(img_path).convert('RGBA')\n",
    "img_no_bg = remove(img).convert('RGB')\n",
    "img_no_bg.show()  # Show the image to confirm background removal\n"
   ]
  },
  {
   "cell_type": "code",
   "execution_count": 29,
   "id": "5975ddad-3658-466f-9754-944c6c202c7a",
   "metadata": {},
   "outputs": [
    {
     "name": "stdout",
     "output_type": "stream",
     "text": [
      "Image shape before expansion: (224, 224)\n",
      "Image array shape after processing: (224, 224, 3)\n"
     ]
    }
   ],
   "source": [
    "print(\"Image shape before expansion:\", img_no_bg.size)\n",
    "print(\"Image array shape after processing:\", img_array.shape)\n"
   ]
  },
  {
   "cell_type": "code",
   "execution_count": null,
   "id": "f031da05-57dc-4b6b-8fdc-1de5c0386cda",
   "metadata": {},
   "outputs": [],
   "source": []
  },
  {
   "cell_type": "code",
   "execution_count": null,
   "id": "30decd33-6d13-4fbc-a45a-e59a6ee03f61",
   "metadata": {},
   "outputs": [],
   "source": []
  }
 ],
 "metadata": {
  "kernelspec": {
   "display_name": "Python 3 (ipykernel)",
   "language": "python",
   "name": "python3"
  },
  "language_info": {
   "codemirror_mode": {
    "name": "ipython",
    "version": 3
   },
   "file_extension": ".py",
   "mimetype": "text/x-python",
   "name": "python",
   "nbconvert_exporter": "python",
   "pygments_lexer": "ipython3",
   "version": "3.12.2"
  }
 },
 "nbformat": 4,
 "nbformat_minor": 5
}
